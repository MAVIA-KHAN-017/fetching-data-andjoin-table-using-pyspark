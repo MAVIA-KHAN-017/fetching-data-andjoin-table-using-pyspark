{
 "cells": [
  {
   "cell_type": "code",
   "execution_count": 6,
   "metadata": {},
   "outputs": [
    {
     "name": "stdout",
     "output_type": "stream",
     "text": [
      "Requirement already satisfied: redis in /home/maviaalamkhan/.local/lib/python3.10/site-packages (4.5.5)\n",
      "Requirement already satisfied: async-timeout>=4.0.2 in /home/maviaalamkhan/.local/lib/python3.10/site-packages (from redis) (4.0.2)\n"
     ]
    }
   ],
   "source": [
    "\n",
    "\n",
    "! pip install --user redis\n",
    "\n"
   ]
  },
  {
   "cell_type": "code",
   "execution_count": 7,
   "metadata": {},
   "outputs": [],
   "source": [
    "import redis\n",
    "import json\n",
    "import requests\n",
    "from pyspark.sql import SparkSession\n",
    "from pyspark.sql.functions import col, from_json, struct\n",
    "from pyspark.sql.types import StructType, StructField, StringType, IntegerType, BooleanType, TimestampType, DoubleType\n",
    "# from pyspark.sql.redis import RedisDataFrameWriter"
   ]
  },
  {
   "cell_type": "code",
   "execution_count": 115,
   "metadata": {},
   "outputs": [],
   "source": [
    "spark = SparkSession.builder.getOrCreate()\n",
    "spark = SparkSession.builder.appName(\"API Joining\").getOrCreate()\n"
   ]
  },
  {
   "cell_type": "code",
   "execution_count": 116,
   "metadata": {},
   "outputs": [],
   "source": [
    "account_url = \"https://xloop-dummy.herokuapp.com/account\"\n",
    "councillor_url = \"https://xloop-dummy.herokuapp.com/councillor\"\n",
    "patient_url = \"https://xloop-dummy.herokuapp.com/patient\"\n"
   ]
  },
  {
   "cell_type": "code",
   "execution_count": 117,
   "metadata": {},
   "outputs": [],
   "source": [
    "account_data = requests.get(account_url).json()\n",
    "councillor_data = requests.get(councillor_url).json()\n",
    "patient_data = requests.get(patient_url).json()"
   ]
  },
  {
   "cell_type": "code",
   "execution_count": 118,
   "metadata": {},
   "outputs": [],
   "source": [
    "schema = StructType([\n",
    "    StructField(\"id\", IntegerType(), nullable=False),\n",
    "    StructField(\"created\", StringType(), nullable=False),\n",
    "    StructField(\"updated\", StringType(), nullable=False),\n",
    "    StructField(\"email\", StringType(), nullable=False),\n",
    "    StructField(\"password\", StringType(), nullable=False),\n",
    "    StructField(\"first_name\", StringType(), nullable=False),\n",
    "    StructField(\"last_name\", StringType(), nullable=False),\n",
    "    StructField(\"gender\", StringType(), nullable=False),\n",
    "    StructField(\"phone_number\", StringType(), nullable=False),\n",
    "    StructField(\"address\", StructType([\n",
    "        StructField(\"address\", StringType(), nullable=False),\n",
    "        StructField(\"location\", StructType([\n",
    "            StructField(\"lat\", DoubleType(), nullable=False),\n",
    "            StructField(\"lng\", DoubleType(), nullable=False)\n",
    "        ])),\n",
    "        StructField(\"placeId\", StringType(), nullable=False),\n",
    "        StructField(\"region\", StringType(), nullable=False)\n",
    "    ])),\n",
    "    StructField(\"national_identity\", StringType(), nullable=False),\n",
    "    StructField(\"role\", StringType(), nullable=False),\n",
    "    StructField(\"is_active\", StringType(), nullable=False)\n",
    "])\n"
   ]
  },
  {
   "cell_type": "code",
   "execution_count": 119,
   "metadata": {},
   "outputs": [],
   "source": [
    "account_df = spark.createDataFrame(account_data,schema)\n",
    "councillor_df = spark.createDataFrame(councillor_data)\n",
    "patient_df = spark.createDataFrame(patient_data)\n"
   ]
  },
  {
   "cell_type": "code",
   "execution_count": 120,
   "metadata": {},
   "outputs": [
    {
     "name": "stdout",
     "output_type": "stream",
     "text": [
      "root\n",
      " |-- id: integer (nullable = false)\n",
      " |-- created: string (nullable = false)\n",
      " |-- updated: string (nullable = false)\n",
      " |-- email: string (nullable = false)\n",
      " |-- password: string (nullable = false)\n",
      " |-- first_name: string (nullable = false)\n",
      " |-- last_name: string (nullable = false)\n",
      " |-- gender: string (nullable = false)\n",
      " |-- phone_number: string (nullable = false)\n",
      " |-- address: struct (nullable = true)\n",
      " |    |-- address: string (nullable = false)\n",
      " |    |-- location: struct (nullable = true)\n",
      " |    |    |-- lat: double (nullable = false)\n",
      " |    |    |-- lng: double (nullable = false)\n",
      " |    |-- placeId: string (nullable = false)\n",
      " |    |-- region: string (nullable = false)\n",
      " |-- national_identity: string (nullable = false)\n",
      " |-- role: string (nullable = false)\n",
      " |-- is_active: string (nullable = false)\n",
      "\n"
     ]
    }
   ],
   "source": [
    "account_df.printSchema()"
   ]
  },
  {
   "cell_type": "code",
   "execution_count": 121,
   "metadata": {},
   "outputs": [],
   "source": [
    "location_schema = struct(\n",
    "    col(\"address.location.lat\").alias(\"lat\"),\n",
    "    col(\"address.location.lng\").alias(\"lng\")\n",
    ")"
   ]
  },
  {
   "cell_type": "code",
   "execution_count": 122,
   "metadata": {},
   "outputs": [
    {
     "name": "stdout",
     "output_type": "stream",
     "text": [
      "+---+---------------------------------------+------+\n",
      "|id |location                               |region|\n",
      "+---+---------------------------------------+------+\n",
      "|0  |{36.44304508252657, 60.876023921999035}|PK    |\n",
      "|1  |{19.20048630158063, 72.58711960394703} |PK    |\n",
      "|2  |{26.22412383124146, 60.930333428250265}|PK    |\n",
      "|3  |{28.552212271780192, 65.70090668459534}|PK    |\n",
      "|4  |{21.48841254263691, 65.29466790380093} |PK    |\n",
      "|5  |{20.08490996562646, 68.279037242669}   |PK    |\n",
      "|6  |{23.698474446703873, 66.58916837129675}|PK    |\n",
      "|7  |{11.17532643717742, 65.37245761660222} |PK    |\n",
      "|8  |{27.1916736388686, 69.28079244957337}  |PK    |\n",
      "|9  |{16.509737146042216, 56.71376309118091}|PK    |\n",
      "|10 |{21.53427314517241, 65.56749965860047} |PK    |\n",
      "|11 |{17.98155427671901, 59.29928834431689} |PK    |\n",
      "|12 |{25.564152857819003, 67.87519119529236}|PK    |\n",
      "|13 |{25.08739302684949, 73.76956832921769} |PK    |\n",
      "|14 |{17.108236096057514, 61.82117735129236}|PK    |\n",
      "|15 |{25.224289086968014, 68.01153122632991}|PK    |\n",
      "|16 |{11.80043953379177, 62.96224736869192} |PK    |\n",
      "|17 |{31.533095370297776, 77.27453295740202}|PK    |\n",
      "|18 |{36.04645158459855, 71.63763047158943} |PK    |\n",
      "|19 |{20.274441883190782, 67.59449693400882}|PK    |\n",
      "+---+---------------------------------------+------+\n",
      "only showing top 20 rows\n",
      "\n"
     ]
    }
   ],
   "source": [
    "selected_df = account_df.select(\"id\", \"address.location\", \"address.region\")\n",
    "selected_df.show(truncate=False)"
   ]
  },
  {
   "cell_type": "code",
   "execution_count": 123,
   "metadata": {},
   "outputs": [
    {
     "name": "stdout",
     "output_type": "stream",
     "text": [
      "+---+------+------------------+------------------+\n",
      "|id |region|lat               |lng               |\n",
      "+---+------+------------------+------------------+\n",
      "|0  |PK    |36.44304508252657 |60.876023921999035|\n",
      "|1  |PK    |19.20048630158063 |72.58711960394703 |\n",
      "|2  |PK    |26.22412383124146 |60.930333428250265|\n",
      "|3  |PK    |28.552212271780192|65.70090668459534 |\n",
      "|4  |PK    |21.48841254263691 |65.29466790380093 |\n",
      "|5  |PK    |20.08490996562646 |68.279037242669   |\n",
      "|6  |PK    |23.698474446703873|66.58916837129675 |\n",
      "|7  |PK    |11.17532643717742 |65.37245761660222 |\n",
      "|8  |PK    |27.1916736388686  |69.28079244957337 |\n",
      "|9  |PK    |16.509737146042216|56.71376309118091 |\n",
      "|10 |PK    |21.53427314517241 |65.56749965860047 |\n",
      "|11 |PK    |17.98155427671901 |59.29928834431689 |\n",
      "|12 |PK    |25.564152857819003|67.87519119529236 |\n",
      "|13 |PK    |25.08739302684949 |73.76956832921769 |\n",
      "|14 |PK    |17.108236096057514|61.82117735129236 |\n",
      "|15 |PK    |25.224289086968014|68.01153122632991 |\n",
      "|16 |PK    |11.80043953379177 |62.96224736869192 |\n",
      "|17 |PK    |31.533095370297776|77.27453295740202 |\n",
      "|18 |PK    |36.04645158459855 |71.63763047158943 |\n",
      "|19 |PK    |20.274441883190782|67.59449693400882 |\n",
      "+---+------+------------------+------------------+\n",
      "only showing top 20 rows\n",
      "\n"
     ]
    }
   ],
   "source": [
    "selected_df = account_df.select(col(\"id\"), col(\"address.region\"),col(\"address.location.lat\"), col(\"address.location.lng\"))\n",
    "\n",
    "# Show the selected data\n",
    "selected_df.show(truncate=False)"
   ]
  },
  {
   "cell_type": "code",
   "execution_count": 124,
   "metadata": {},
   "outputs": [
    {
     "name": "stdout",
     "output_type": "stream",
     "text": [
      "+----------+------+------------------+------------------+\n",
      "|account_id|region|               lat|               lng|\n",
      "+----------+------+------------------+------------------+\n",
      "|         0|    PK| 36.44304508252657|60.876023921999035|\n",
      "|         1|    PK| 19.20048630158063| 72.58711960394703|\n",
      "|         2|    PK| 26.22412383124146|60.930333428250265|\n",
      "|         3|    PK|28.552212271780192| 65.70090668459534|\n",
      "|         4|    PK| 21.48841254263691| 65.29466790380093|\n",
      "|         5|    PK| 20.08490996562646|   68.279037242669|\n",
      "|         6|    PK|23.698474446703873| 66.58916837129675|\n",
      "|         7|    PK| 11.17532643717742| 65.37245761660222|\n",
      "|         8|    PK|  27.1916736388686| 69.28079244957337|\n",
      "|         9|    PK|16.509737146042216| 56.71376309118091|\n",
      "|        10|    PK| 21.53427314517241| 65.56749965860047|\n",
      "|        11|    PK| 17.98155427671901| 59.29928834431689|\n",
      "|        12|    PK|25.564152857819003| 67.87519119529236|\n",
      "|        13|    PK| 25.08739302684949| 73.76956832921769|\n",
      "|        14|    PK|17.108236096057514| 61.82117735129236|\n",
      "|        15|    PK|25.224289086968014| 68.01153122632991|\n",
      "|        16|    PK| 11.80043953379177| 62.96224736869192|\n",
      "|        17|    PK|31.533095370297776| 77.27453295740202|\n",
      "|        18|    PK| 36.04645158459855| 71.63763047158943|\n",
      "|        19|    PK|20.274441883190782| 67.59449693400882|\n",
      "+----------+------+------------------+------------------+\n",
      "only showing top 20 rows\n",
      "\n"
     ]
    }
   ],
   "source": [
    "selected_df = account_df.select(col(\"id\").alias(\"account_id\"), col(\"address.region\"), col(\"address.location.lat\"), col(\"address.location.lng\"))\n",
    "patient_selected_df = patient_df.select(\"user_id\", \"id\")\n",
    "selected_df.show()"
   ]
  },
  {
   "cell_type": "code",
   "execution_count": 126,
   "metadata": {},
   "outputs": [
    {
     "name": "stderr",
     "output_type": "stream",
     "text": [
      "[Stage 70:===>                                                    (1 + 15) / 16]\r"
     ]
    },
    {
     "name": "stdout",
     "output_type": "stream",
     "text": [
      "+----------+------+------------------+------------------+-------+---+\n",
      "|account_id|region|               lat|               lng|user_id| id|\n",
      "+----------+------+------------------+------------------+-------+---+\n",
      "|        26|    PK|24.327297126232867| 65.20061345408942|     26| 26|\n",
      "|        29|    PK|12.232047819667587| 70.89322806825771|     29| 29|\n",
      "|       474|    PK|27.435004506579254| 62.27722683310867|    474|474|\n",
      "|        65|    PK| 20.29138518234734| 72.91718310716317|     65| 65|\n",
      "|       191|    PK| 33.81867208665051| 69.68087277391533|    191|191|\n",
      "|       418|    PK| 34.57123272096376|61.791972041704526|    418|418|\n",
      "|       541|    PK| 25.18686684910276| 66.68729541025937|    541|541|\n",
      "|       558|    PK| 25.10865230088019| 65.45057709574826|    558|558|\n",
      "|       222|    PK| 24.65563866846733| 66.93158715211189|    222|222|\n",
      "|       270|    PK| 32.21766935475883|  66.0473222761342|    270|270|\n",
      "|       293|    PK| 19.08680981771938| 72.08526096311243|    293|293|\n",
      "|       243|    PK| 31.09199700890105| 60.08310894423448|    243|243|\n",
      "|       278|    PK| 25.00845350884967| 67.03586017671375|    278|278|\n",
      "|       367|    PK|33.894683959917415| 65.58262669256328|    367|367|\n",
      "|       442|    PK|24.301872334302697| 69.35588618760085|    442|442|\n",
      "|        19|    PK|20.274441883190782| 67.59449693400882|     19| 19|\n",
      "|        54|    PK|21.698764772810076| 58.94789366735699|     54| 54|\n",
      "|       296|    PK|17.967828010631706| 65.53525820258699|    296|296|\n",
      "|         0|    PK| 36.44304508252657|60.876023921999035|      0|  0|\n",
      "|       277|    PK|15.993485789068961| 59.91811201322855|    277|277|\n",
      "+----------+------+------------------+------------------+-------+---+\n",
      "only showing top 20 rows\n",
      "\n"
     ]
    },
    {
     "name": "stderr",
     "output_type": "stream",
     "text": [
      "                                                                                \r"
     ]
    }
   ],
   "source": [
    "joined_df = selected_df.join(patient_selected_df, selected_df.account_id == patient_selected_df.user_id)\n",
    "joined_df.show()"
   ]
  },
  {
   "cell_type": "code",
   "execution_count": 127,
   "metadata": {},
   "outputs": [
    {
     "name": "stderr",
     "output_type": "stream",
     "text": [
      "                                                                                \r"
     ]
    },
    {
     "name": "stdout",
     "output_type": "stream",
     "text": [
      "+----------+------+------------------+------------------+-------+----+\n",
      "|account_id|region|               lat|               lng|user_id|  id|\n",
      "+----------+------+------------------+------------------+-------+----+\n",
      "|      2927|    PK|  30.6517477182322| 64.17921141051397|   2927|9510|\n",
      "|      1950|    PK|21.945529433218823| 68.05776368171382|   1950| 824|\n",
      "|      3091|    PK|11.744821994563832|  72.6987232288003|   3091|8955|\n",
      "|      8209|    PK| 38.01697384949846| 64.10336278619866|   8209| 884|\n",
      "|      1360|    PK| 38.34843891302184| 66.18160828416444|   1360| 686|\n",
      "|      7635|    PK|25.056919852803265| 68.05527435581268|   7635|7832|\n",
      "|      3845|    PK|13.672994224905649| 68.87425449048067|   3845|2339|\n",
      "|      6856|    PK| 16.55760014062568| 55.65488048391353|   6856|2376|\n",
      "|      3327|    PK| 36.63012666529774| 67.71350445458938|   3327|6832|\n",
      "|      4191|    PK|27.110686020931823| 65.42889840019302|   4191|3248|\n",
      "|      7146|    PK|24.963770198021244| 72.45101603223668|   7146|7164|\n",
      "|      7595|    PK|20.889841584521527|  64.1649554925583|   7595|9701|\n",
      "|      6700|    PK|25.516765037791693|  69.5301175915256|   6700|2844|\n",
      "|      6319|    PK|18.759797727288458| 68.83731886149144|   6319|5466|\n",
      "|      1671|    PK|  36.0481946558649| 61.47117077000905|   1671|3501|\n",
      "|      8243|    PK| 17.76272703221116| 72.86123506185288|   8243|3705|\n",
      "|        54|    PK|21.698764772810076| 58.94789366735699|     54|1898|\n",
      "|      9952|    PK|  23.3911716570292|57.165858448255676|   9952|8217|\n",
      "|       277|    PK|15.993485789068961| 59.91811201322855|    277|7619|\n",
      "|      2940|    PK|13.164167552172602| 61.25218946968039|   2940|5571|\n",
      "+----------+------+------------------+------------------+-------+----+\n",
      "only showing top 20 rows\n",
      "\n"
     ]
    }
   ],
   "source": [
    "joined_df_1 = selected_df.join(councillor_selected_df, selected_df.account_id == councillor_selected_df.user_id)\n",
    "joined_df_1.show()"
   ]
  },
  {
   "cell_type": "code",
   "execution_count": 128,
   "metadata": {},
   "outputs": [],
   "source": [
    "councillor_selected_df = councillor_df.select(\"user_id\", \"id\")\n",
    "patient_selected_df = patient_df.select(\"user_id\", \"id\")"
   ]
  },
  {
   "cell_type": "code",
   "execution_count": 129,
   "metadata": {},
   "outputs": [],
   "source": [
    "joined_df = councillor_selected_df.join(patient_selected_df, \"user_id\")"
   ]
  },
  {
   "cell_type": "code",
   "execution_count": 41,
   "metadata": {},
   "outputs": [
    {
     "name": "stderr",
     "output_type": "stream",
     "text": [
      "[Stage 20:>                                                       (0 + 16) / 16]\r"
     ]
    },
    {
     "name": "stdout",
     "output_type": "stream",
     "text": [
      "+-------+----+----+\n",
      "|user_id|  id|  id|\n",
      "+-------+----+----+\n",
      "|   6834|6738|3158|\n",
      "|   6834|9625|3158|\n",
      "|   4126|1890|9018|\n",
      "|   4126|5232|9018|\n",
      "|   6892|9911|2657|\n",
      "|   3061|3526|5399|\n",
      "|   5148|3797|3829|\n",
      "|   7664|1730|2975|\n",
      "|   3741|2951|8776|\n",
      "|   2570|9619|8987|\n",
      "|   2517|2821|1564|\n",
      "|   6489|3864|4803|\n",
      "|   8872|4473|8002|\n",
      "|   8872|8810|8002|\n",
      "|   9686| 360|3289|\n",
      "|   9686|7102|3289|\n",
      "|   9686|3653|3289|\n",
      "|   9686|5730|3289|\n",
      "|   1447|9235|6768|\n",
      "|   1447|1139|6768|\n",
      "+-------+----+----+\n",
      "only showing top 20 rows\n",
      "\n"
     ]
    },
    {
     "name": "stderr",
     "output_type": "stream",
     "text": [
      "                                                                                \r"
     ]
    }
   ],
   "source": [
    "joined_df.show()"
   ]
  },
  {
   "cell_type": "code",
   "execution_count": 130,
   "metadata": {},
   "outputs": [
    {
     "ename": "DataError",
     "evalue": "Invalid input of type: 'DataFrame'. Convert to a bytes, string, int or float first.",
     "output_type": "error",
     "traceback": [
      "\u001b[0;31m---------------------------------------------------------------------------\u001b[0m",
      "\u001b[0;31mDataError\u001b[0m                                 Traceback (most recent call last)",
      "Cell \u001b[0;32mIn[130], line 9\u001b[0m\n\u001b[1;32m      6\u001b[0m redis_client \u001b[39m=\u001b[39m redis\u001b[39m.\u001b[39mRedis(host\u001b[39m=\u001b[39mredis_host, port\u001b[39m=\u001b[39mredis_port)\n\u001b[1;32m      8\u001b[0m \u001b[39m# Set a key-value pair in Redis\u001b[39;00m\n\u001b[0;32m----> 9\u001b[0m redis_client\u001b[39m.\u001b[39;49mset(\u001b[39m'\u001b[39;49m\u001b[39mdata_councellor\u001b[39;49m\u001b[39m'\u001b[39;49m, joined_df_1)\n",
      "File \u001b[0;32m~/.local/lib/python3.10/site-packages/redis/commands/core.py:2313\u001b[0m, in \u001b[0;36mBasicKeyCommands.set\u001b[0;34m(self, name, value, ex, px, nx, xx, keepttl, get, exat, pxat)\u001b[0m\n\u001b[1;32m   2310\u001b[0m     pieces\u001b[39m.\u001b[39mappend(\u001b[39m\"\u001b[39m\u001b[39mGET\u001b[39m\u001b[39m\"\u001b[39m)\n\u001b[1;32m   2311\u001b[0m     options[\u001b[39m\"\u001b[39m\u001b[39mget\u001b[39m\u001b[39m\"\u001b[39m] \u001b[39m=\u001b[39m \u001b[39mTrue\u001b[39;00m\n\u001b[0;32m-> 2313\u001b[0m \u001b[39mreturn\u001b[39;00m \u001b[39mself\u001b[39;49m\u001b[39m.\u001b[39;49mexecute_command(\u001b[39m\"\u001b[39;49m\u001b[39mSET\u001b[39;49m\u001b[39m\"\u001b[39;49m, \u001b[39m*\u001b[39;49mpieces, \u001b[39m*\u001b[39;49m\u001b[39m*\u001b[39;49moptions)\n",
      "File \u001b[0;32m~/.local/lib/python3.10/site-packages/redis/client.py:1269\u001b[0m, in \u001b[0;36mRedis.execute_command\u001b[0;34m(self, *args, **options)\u001b[0m\n\u001b[1;32m   1266\u001b[0m conn \u001b[39m=\u001b[39m \u001b[39mself\u001b[39m\u001b[39m.\u001b[39mconnection \u001b[39mor\u001b[39;00m pool\u001b[39m.\u001b[39mget_connection(command_name, \u001b[39m*\u001b[39m\u001b[39m*\u001b[39moptions)\n\u001b[1;32m   1268\u001b[0m \u001b[39mtry\u001b[39;00m:\n\u001b[0;32m-> 1269\u001b[0m     \u001b[39mreturn\u001b[39;00m conn\u001b[39m.\u001b[39;49mretry\u001b[39m.\u001b[39;49mcall_with_retry(\n\u001b[1;32m   1270\u001b[0m         \u001b[39mlambda\u001b[39;49;00m: \u001b[39mself\u001b[39;49m\u001b[39m.\u001b[39;49m_send_command_parse_response(\n\u001b[1;32m   1271\u001b[0m             conn, command_name, \u001b[39m*\u001b[39;49margs, \u001b[39m*\u001b[39;49m\u001b[39m*\u001b[39;49moptions\n\u001b[1;32m   1272\u001b[0m         ),\n\u001b[1;32m   1273\u001b[0m         \u001b[39mlambda\u001b[39;49;00m error: \u001b[39mself\u001b[39;49m\u001b[39m.\u001b[39;49m_disconnect_raise(conn, error),\n\u001b[1;32m   1274\u001b[0m     )\n\u001b[1;32m   1275\u001b[0m \u001b[39mfinally\u001b[39;00m:\n\u001b[1;32m   1276\u001b[0m     \u001b[39mif\u001b[39;00m \u001b[39mnot\u001b[39;00m \u001b[39mself\u001b[39m\u001b[39m.\u001b[39mconnection:\n",
      "File \u001b[0;32m~/.local/lib/python3.10/site-packages/redis/retry.py:46\u001b[0m, in \u001b[0;36mRetry.call_with_retry\u001b[0;34m(self, do, fail)\u001b[0m\n\u001b[1;32m     44\u001b[0m \u001b[39mwhile\u001b[39;00m \u001b[39mTrue\u001b[39;00m:\n\u001b[1;32m     45\u001b[0m     \u001b[39mtry\u001b[39;00m:\n\u001b[0;32m---> 46\u001b[0m         \u001b[39mreturn\u001b[39;00m do()\n\u001b[1;32m     47\u001b[0m     \u001b[39mexcept\u001b[39;00m \u001b[39mself\u001b[39m\u001b[39m.\u001b[39m_supported_errors \u001b[39mas\u001b[39;00m error:\n\u001b[1;32m     48\u001b[0m         failures \u001b[39m+\u001b[39m\u001b[39m=\u001b[39m \u001b[39m1\u001b[39m\n",
      "File \u001b[0;32m~/.local/lib/python3.10/site-packages/redis/client.py:1270\u001b[0m, in \u001b[0;36mRedis.execute_command.<locals>.<lambda>\u001b[0;34m()\u001b[0m\n\u001b[1;32m   1266\u001b[0m conn \u001b[39m=\u001b[39m \u001b[39mself\u001b[39m\u001b[39m.\u001b[39mconnection \u001b[39mor\u001b[39;00m pool\u001b[39m.\u001b[39mget_connection(command_name, \u001b[39m*\u001b[39m\u001b[39m*\u001b[39moptions)\n\u001b[1;32m   1268\u001b[0m \u001b[39mtry\u001b[39;00m:\n\u001b[1;32m   1269\u001b[0m     \u001b[39mreturn\u001b[39;00m conn\u001b[39m.\u001b[39mretry\u001b[39m.\u001b[39mcall_with_retry(\n\u001b[0;32m-> 1270\u001b[0m         \u001b[39mlambda\u001b[39;00m: \u001b[39mself\u001b[39;49m\u001b[39m.\u001b[39;49m_send_command_parse_response(\n\u001b[1;32m   1271\u001b[0m             conn, command_name, \u001b[39m*\u001b[39;49margs, \u001b[39m*\u001b[39;49m\u001b[39m*\u001b[39;49moptions\n\u001b[1;32m   1272\u001b[0m         ),\n\u001b[1;32m   1273\u001b[0m         \u001b[39mlambda\u001b[39;00m error: \u001b[39mself\u001b[39m\u001b[39m.\u001b[39m_disconnect_raise(conn, error),\n\u001b[1;32m   1274\u001b[0m     )\n\u001b[1;32m   1275\u001b[0m \u001b[39mfinally\u001b[39;00m:\n\u001b[1;32m   1276\u001b[0m     \u001b[39mif\u001b[39;00m \u001b[39mnot\u001b[39;00m \u001b[39mself\u001b[39m\u001b[39m.\u001b[39mconnection:\n",
      "File \u001b[0;32m~/.local/lib/python3.10/site-packages/redis/client.py:1245\u001b[0m, in \u001b[0;36mRedis._send_command_parse_response\u001b[0;34m(self, conn, command_name, *args, **options)\u001b[0m\n\u001b[1;32m   1241\u001b[0m \u001b[39mdef\u001b[39;00m \u001b[39m_send_command_parse_response\u001b[39m(\u001b[39mself\u001b[39m, conn, command_name, \u001b[39m*\u001b[39margs, \u001b[39m*\u001b[39m\u001b[39m*\u001b[39moptions):\n\u001b[1;32m   1242\u001b[0m \u001b[39m    \u001b[39m\u001b[39m\"\"\"\u001b[39;00m\n\u001b[1;32m   1243\u001b[0m \u001b[39m    Send a command and parse the response\u001b[39;00m\n\u001b[1;32m   1244\u001b[0m \u001b[39m    \"\"\"\u001b[39;00m\n\u001b[0;32m-> 1245\u001b[0m     conn\u001b[39m.\u001b[39;49msend_command(\u001b[39m*\u001b[39;49margs)\n\u001b[1;32m   1246\u001b[0m     \u001b[39mreturn\u001b[39;00m \u001b[39mself\u001b[39m\u001b[39m.\u001b[39mparse_response(conn, command_name, \u001b[39m*\u001b[39m\u001b[39m*\u001b[39moptions)\n",
      "File \u001b[0;32m~/.local/lib/python3.10/site-packages/redis/connection.py:848\u001b[0m, in \u001b[0;36mAbstractConnection.send_command\u001b[0;34m(self, *args, **kwargs)\u001b[0m\n\u001b[1;32m    845\u001b[0m \u001b[39mdef\u001b[39;00m \u001b[39msend_command\u001b[39m(\u001b[39mself\u001b[39m, \u001b[39m*\u001b[39margs, \u001b[39m*\u001b[39m\u001b[39m*\u001b[39mkwargs):\n\u001b[1;32m    846\u001b[0m \u001b[39m    \u001b[39m\u001b[39m\"\"\"Pack and send a command to the Redis server\"\"\"\u001b[39;00m\n\u001b[1;32m    847\u001b[0m     \u001b[39mself\u001b[39m\u001b[39m.\u001b[39msend_packed_command(\n\u001b[0;32m--> 848\u001b[0m         \u001b[39mself\u001b[39;49m\u001b[39m.\u001b[39;49m_command_packer\u001b[39m.\u001b[39;49mpack(\u001b[39m*\u001b[39;49margs),\n\u001b[1;32m    849\u001b[0m         check_health\u001b[39m=\u001b[39mkwargs\u001b[39m.\u001b[39mget(\u001b[39m\"\u001b[39m\u001b[39mcheck_health\u001b[39m\u001b[39m\"\u001b[39m, \u001b[39mTrue\u001b[39;00m),\n\u001b[1;32m    850\u001b[0m     )\n",
      "File \u001b[0;32m~/.local/lib/python3.10/site-packages/redis/connection.py:558\u001b[0m, in \u001b[0;36mPythonRespSerializer.pack\u001b[0;34m(self, *args)\u001b[0m\n\u001b[1;32m    555\u001b[0m buff \u001b[39m=\u001b[39m SYM_EMPTY\u001b[39m.\u001b[39mjoin((SYM_STAR, \u001b[39mstr\u001b[39m(\u001b[39mlen\u001b[39m(args))\u001b[39m.\u001b[39mencode(), SYM_CRLF))\n\u001b[1;32m    557\u001b[0m buffer_cutoff \u001b[39m=\u001b[39m \u001b[39mself\u001b[39m\u001b[39m.\u001b[39m_buffer_cutoff\n\u001b[0;32m--> 558\u001b[0m \u001b[39mfor\u001b[39;00m arg \u001b[39min\u001b[39;00m \u001b[39mmap\u001b[39m(\u001b[39mself\u001b[39m\u001b[39m.\u001b[39mencode, args):\n\u001b[1;32m    559\u001b[0m     \u001b[39m# to avoid large string mallocs, chunk the command into the\u001b[39;00m\n\u001b[1;32m    560\u001b[0m     \u001b[39m# output list if we're sending large values or memoryviews\u001b[39;00m\n\u001b[1;32m    561\u001b[0m     arg_length \u001b[39m=\u001b[39m \u001b[39mlen\u001b[39m(arg)\n\u001b[1;32m    562\u001b[0m     \u001b[39mif\u001b[39;00m (\n\u001b[1;32m    563\u001b[0m         \u001b[39mlen\u001b[39m(buff) \u001b[39m>\u001b[39m buffer_cutoff\n\u001b[1;32m    564\u001b[0m         \u001b[39mor\u001b[39;00m arg_length \u001b[39m>\u001b[39m buffer_cutoff\n\u001b[1;32m    565\u001b[0m         \u001b[39mor\u001b[39;00m \u001b[39misinstance\u001b[39m(arg, \u001b[39mmemoryview\u001b[39m)\n\u001b[1;32m    566\u001b[0m     ):\n",
      "File \u001b[0;32m~/.local/lib/python3.10/site-packages/redis/connection.py:115\u001b[0m, in \u001b[0;36mEncoder.encode\u001b[0;34m(self, value)\u001b[0m\n\u001b[1;32m    112\u001b[0m \u001b[39melif\u001b[39;00m \u001b[39mnot\u001b[39;00m \u001b[39misinstance\u001b[39m(value, \u001b[39mstr\u001b[39m):\n\u001b[1;32m    113\u001b[0m     \u001b[39m# a value we don't know how to deal with. throw an error\u001b[39;00m\n\u001b[1;32m    114\u001b[0m     typename \u001b[39m=\u001b[39m \u001b[39mtype\u001b[39m(value)\u001b[39m.\u001b[39m\u001b[39m__name__\u001b[39m\n\u001b[0;32m--> 115\u001b[0m     \u001b[39mraise\u001b[39;00m DataError(\n\u001b[1;32m    116\u001b[0m         \u001b[39mf\u001b[39m\u001b[39m\"\u001b[39m\u001b[39mInvalid input of type: \u001b[39m\u001b[39m'\u001b[39m\u001b[39m{\u001b[39;00mtypename\u001b[39m}\u001b[39;00m\u001b[39m'\u001b[39m\u001b[39m. \u001b[39m\u001b[39m\"\u001b[39m\n\u001b[1;32m    117\u001b[0m         \u001b[39mf\u001b[39m\u001b[39m\"\u001b[39m\u001b[39mConvert to a bytes, string, int or float first.\u001b[39m\u001b[39m\"\u001b[39m\n\u001b[1;32m    118\u001b[0m     )\n\u001b[1;32m    119\u001b[0m \u001b[39mif\u001b[39;00m \u001b[39misinstance\u001b[39m(value, \u001b[39mstr\u001b[39m):\n\u001b[1;32m    120\u001b[0m     value \u001b[39m=\u001b[39m value\u001b[39m.\u001b[39mencode(\u001b[39mself\u001b[39m\u001b[39m.\u001b[39mencoding, \u001b[39mself\u001b[39m\u001b[39m.\u001b[39mencoding_errors)\n",
      "\u001b[0;31mDataError\u001b[0m: Invalid input of type: 'DataFrame'. Convert to a bytes, string, int or float first."
     ]
    }
   ],
   "source": [
    "import redis\n",
    "\n",
    "# Create a Redis client\n",
    "redis_host = 'localhost'  # Replace with your Redis host\n",
    "redis_port = 6379  # Replace with your Redis port\n",
    "redis_client = redis.Redis(host=redis_host, port=redis_port)\n",
    "\n",
    "# Set a key-value pair in Redis\n",
    "redis_client.set('data_councellor', joined_df_1)"
   ]
  },
  {
   "cell_type": "code",
   "execution_count": null,
   "metadata": {},
   "outputs": [],
   "source": []
  }
 ],
 "metadata": {
  "kernelspec": {
   "display_name": "base",
   "language": "python",
   "name": "python3"
  },
  "language_info": {
   "codemirror_mode": {
    "name": "ipython",
    "version": 3
   },
   "file_extension": ".py",
   "mimetype": "text/x-python",
   "name": "python",
   "nbconvert_exporter": "python",
   "pygments_lexer": "ipython3",
   "version": "3.10.9"
  },
  "orig_nbformat": 4
 },
 "nbformat": 4,
 "nbformat_minor": 2
}
