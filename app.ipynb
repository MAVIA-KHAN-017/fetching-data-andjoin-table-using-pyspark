{
 "cells": [
  {
   "cell_type": "code",
   "execution_count": 94,
   "metadata": {},
   "outputs": [],
   "source": [
    "import requests\n",
    "from pyspark.sql import SparkSession\n",
    "from pyspark.sql.functions import col, from_json, struct\n",
    "from pyspark.sql.types import StructType, StructField, StringType, IntegerType, BooleanType, TimestampType, DoubleType\n",
    "\n",
    "\n"
   ]
  },
  {
   "cell_type": "code",
   "execution_count": 95,
   "metadata": {},
   "outputs": [],
   "source": [
    "spark = SparkSession.builder.getOrCreate()\n",
    "spark = SparkSession.builder.appName(\"API Joining\").getOrCreate()\n"
   ]
  },
  {
   "cell_type": "code",
   "execution_count": 96,
   "metadata": {},
   "outputs": [],
   "source": [
    "account_url = \"https://xloop-dummy.herokuapp.com/account\"\n",
    "councillor_url = \"https://xloop-dummy.herokuapp.com/councillor\"\n",
    "patient_url = \"https://xloop-dummy.herokuapp.com/patient\"\n"
   ]
  },
  {
   "cell_type": "code",
   "execution_count": 97,
   "metadata": {},
   "outputs": [],
   "source": [
    "account_data = requests.get(account_url).json()\n",
    "councillor_data = requests.get(councillor_url).json()\n",
    "patient_data = requests.get(patient_url).json()"
   ]
  },
  {
   "cell_type": "code",
   "execution_count": 100,
   "metadata": {},
   "outputs": [],
   "source": [
    "schema = StructType([\n",
    "    StructField(\"id\", IntegerType(), nullable=False),\n",
    "    StructField(\"created\", StringType(), nullable=False),\n",
    "    StructField(\"updated\", StringType(), nullable=False),\n",
    "    StructField(\"email\", StringType(), nullable=False),\n",
    "    StructField(\"password\", StringType(), nullable=False),\n",
    "    StructField(\"first_name\", StringType(), nullable=False),\n",
    "    StructField(\"last_name\", StringType(), nullable=False),\n",
    "    StructField(\"gender\", StringType(), nullable=False),\n",
    "    StructField(\"phone_number\", StringType(), nullable=False),\n",
    "    StructField(\"address\", StructType([\n",
    "        StructField(\"address\", StringType(), nullable=False),\n",
    "        StructField(\"location\", StructType([\n",
    "            StructField(\"lat\", DoubleType(), nullable=False),\n",
    "            StructField(\"lng\", DoubleType(), nullable=False)\n",
    "        ])),\n",
    "        StructField(\"placeId\", StringType(), nullable=False),\n",
    "        StructField(\"region\", StringType(), nullable=False)\n",
    "    ])),\n",
    "    StructField(\"national_identity\", StringType(), nullable=False),\n",
    "    StructField(\"role\", StringType(), nullable=False),\n",
    "    StructField(\"is_active\", StringType(), nullable=False)\n",
    "])\n"
   ]
  },
  {
   "cell_type": "code",
   "execution_count": 101,
   "metadata": {},
   "outputs": [],
   "source": [
    "account_df = spark.createDataFrame(account_data,schema)\n",
    "councillor_df = spark.createDataFrame(councillor_data)\n",
    "patient_df = spark.createDataFrame(patient_data)\n"
   ]
  },
  {
   "cell_type": "code",
   "execution_count": 102,
   "metadata": {},
   "outputs": [
    {
     "name": "stdout",
     "output_type": "stream",
     "text": [
      "root\n",
      " |-- id: integer (nullable = false)\n",
      " |-- created: string (nullable = false)\n",
      " |-- updated: string (nullable = false)\n",
      " |-- email: string (nullable = false)\n",
      " |-- password: string (nullable = false)\n",
      " |-- first_name: string (nullable = false)\n",
      " |-- last_name: string (nullable = false)\n",
      " |-- gender: string (nullable = false)\n",
      " |-- phone_number: string (nullable = false)\n",
      " |-- address: struct (nullable = true)\n",
      " |    |-- address: string (nullable = false)\n",
      " |    |-- location: struct (nullable = true)\n",
      " |    |    |-- lat: double (nullable = false)\n",
      " |    |    |-- lng: double (nullable = false)\n",
      " |    |-- placeId: string (nullable = false)\n",
      " |    |-- region: string (nullable = false)\n",
      " |-- national_identity: string (nullable = false)\n",
      " |-- role: string (nullable = false)\n",
      " |-- is_active: string (nullable = false)\n",
      "\n"
     ]
    }
   ],
   "source": [
    "account_df.printSchema()"
   ]
  },
  {
   "cell_type": "code",
   "execution_count": 103,
   "metadata": {},
   "outputs": [],
   "source": [
    "location_schema = struct(\n",
    "    col(\"address.location.lat\").alias(\"lat\"),\n",
    "    col(\"address.location.lng\").alias(\"lng\")\n",
    ")"
   ]
  },
  {
   "cell_type": "code",
   "execution_count": 104,
   "metadata": {},
   "outputs": [
    {
     "name": "stdout",
     "output_type": "stream",
     "text": [
      "+----+----------------------------------------+------+\n",
      "|id  |location                                |region|\n",
      "+----+----------------------------------------+------+\n",
      "|4481|{37.83735852005235, 61.21006971841348}  |PK    |\n",
      "|2344|{34.513027260782934, 75.29883307124692} |PK    |\n",
      "|2308|{26.67471399032989, 72.97968890693005}  |PK    |\n",
      "|9968|{23.22676257565109, 68.0226556244778}   |PK    |\n",
      "|2874|{15.106643140881266, 62.97671373513003} |PK    |\n",
      "|6598|{25.37761993327233, 65.95173619970035}  |PK    |\n",
      "|4404|{20.816752450682387, 74.35004023317276} |PK    |\n",
      "|1444|{24.670211916430944, 57.85636615736132} |PK    |\n",
      "|3118|{28.34459082856146, 64.0995373298432}   |PK    |\n",
      "|561 |{27.7340023307804, 77.60132569940936}   |PK    |\n",
      "|9719|{19.730077922311708, 63.437169265474495}|PK    |\n",
      "|7391|{26.51228866336421, 69.58286254834991}  |PK    |\n",
      "|9082|{28.253405671726814, 57.62803793273429} |PK    |\n",
      "|7707|{26.56883668885961, 53.58757938984559}  |PK    |\n",
      "|9146|{29.894270246926105, 64.96318136156651} |PK    |\n",
      "|230 |{12.229550431509992, 67.53370483725337} |PK    |\n",
      "|17  |{26.274282833545865, 61.5531621300363}  |PK    |\n",
      "|9692|{36.252781261452654, 70.5024577715302}  |PK    |\n",
      "|2355|{22.39287600298803, 67.52426340225907}  |PK    |\n",
      "|8558|{16.59195562873095, 56.86527266916687}  |PK    |\n",
      "+----+----------------------------------------+------+\n",
      "only showing top 20 rows\n",
      "\n"
     ]
    }
   ],
   "source": [
    "selected_df = account_df.select(\"id\", \"address.location\", \"address.region\")\n",
    "selected_df.show(truncate=False)"
   ]
  },
  {
   "cell_type": "code",
   "execution_count": 105,
   "metadata": {},
   "outputs": [
    {
     "name": "stdout",
     "output_type": "stream",
     "text": [
      "+----+------+------------------+------------------+\n",
      "|id  |region|lat               |lng               |\n",
      "+----+------+------------------+------------------+\n",
      "|4481|PK    |37.83735852005235 |61.21006971841348 |\n",
      "|2344|PK    |34.513027260782934|75.29883307124692 |\n",
      "|2308|PK    |26.67471399032989 |72.97968890693005 |\n",
      "|9968|PK    |23.22676257565109 |68.0226556244778  |\n",
      "|2874|PK    |15.106643140881266|62.97671373513003 |\n",
      "|6598|PK    |25.37761993327233 |65.95173619970035 |\n",
      "|4404|PK    |20.816752450682387|74.35004023317276 |\n",
      "|1444|PK    |24.670211916430944|57.85636615736132 |\n",
      "|3118|PK    |28.34459082856146 |64.0995373298432  |\n",
      "|561 |PK    |27.7340023307804  |77.60132569940936 |\n",
      "|9719|PK    |19.730077922311708|63.437169265474495|\n",
      "|7391|PK    |26.51228866336421 |69.58286254834991 |\n",
      "|9082|PK    |28.253405671726814|57.62803793273429 |\n",
      "|7707|PK    |26.56883668885961 |53.58757938984559 |\n",
      "|9146|PK    |29.894270246926105|64.96318136156651 |\n",
      "|230 |PK    |12.229550431509992|67.53370483725337 |\n",
      "|17  |PK    |26.274282833545865|61.5531621300363  |\n",
      "|9692|PK    |36.252781261452654|70.5024577715302  |\n",
      "|2355|PK    |22.39287600298803 |67.52426340225907 |\n",
      "|8558|PK    |16.59195562873095 |56.86527266916687 |\n",
      "+----+------+------------------+------------------+\n",
      "only showing top 20 rows\n",
      "\n"
     ]
    }
   ],
   "source": [
    "selected_df = account_df.select(col(\"id\"), col(\"address.region\"),col(\"address.location.lat\"), col(\"address.location.lng\"))\n",
    "\n",
    "# Show the selected data\n",
    "selected_df.show(truncate=False)"
   ]
  },
  {
   "cell_type": "code",
   "execution_count": 109,
   "metadata": {},
   "outputs": [
    {
     "name": "stdout",
     "output_type": "stream",
     "text": [
      "+-------+------+------------------+------------------+\n",
      "|user_id|region|               lat|               lng|\n",
      "+-------+------+------------------+------------------+\n",
      "|   4481|    PK| 37.83735852005235| 61.21006971841348|\n",
      "|   2344|    PK|34.513027260782934| 75.29883307124692|\n",
      "|   2308|    PK| 26.67471399032989| 72.97968890693005|\n",
      "|   9968|    PK| 23.22676257565109|  68.0226556244778|\n",
      "|   2874|    PK|15.106643140881266| 62.97671373513003|\n",
      "|   6598|    PK| 25.37761993327233| 65.95173619970035|\n",
      "|   4404|    PK|20.816752450682387| 74.35004023317276|\n",
      "|   1444|    PK|24.670211916430944| 57.85636615736132|\n",
      "|   3118|    PK| 28.34459082856146|  64.0995373298432|\n",
      "|    561|    PK|  27.7340023307804| 77.60132569940936|\n",
      "|   9719|    PK|19.730077922311708|63.437169265474495|\n",
      "|   7391|    PK| 26.51228866336421| 69.58286254834991|\n",
      "|   9082|    PK|28.253405671726814| 57.62803793273429|\n",
      "|   7707|    PK| 26.56883668885961| 53.58757938984559|\n",
      "|   9146|    PK|29.894270246926105| 64.96318136156651|\n",
      "|    230|    PK|12.229550431509992| 67.53370483725337|\n",
      "|     17|    PK|26.274282833545865|  61.5531621300363|\n",
      "|   9692|    PK|36.252781261452654|  70.5024577715302|\n",
      "|   2355|    PK| 22.39287600298803| 67.52426340225907|\n",
      "|   8558|    PK| 16.59195562873095| 56.86527266916687|\n",
      "+-------+------+------------------+------------------+\n",
      "only showing top 20 rows\n",
      "\n"
     ]
    }
   ],
   "source": [
    "selected_df = account_df.select(col(\"id\").alias(\"user_id\"), col(\"address.region\"), col(\"address.location.lat\"), col(\"address.location.lng\"))\n",
    "patient_selected_df = patient_df.select(\"user_id\", \"id\")\n",
    "selected_df.show()"
   ]
  },
  {
   "cell_type": "code",
   "execution_count": 110,
   "metadata": {},
   "outputs": [
    {
     "name": "stderr",
     "output_type": "stream",
     "text": [
      "[Stage 60:===>                                                    (1 + 15) / 16]\r"
     ]
    },
    {
     "name": "stdout",
     "output_type": "stream",
     "text": [
      "+-------+------+------------------+------------------+-------+----+\n",
      "|user_id|region|               lat|               lng|user_id|  id|\n",
      "+-------+------+------------------+------------------+-------+----+\n",
      "|    418|    PK| 24.62339084725973| 73.85793958902661|    418|6088|\n",
      "|   6892|    PK| 25.46743322510808| 72.99090456101771|   6892|2657|\n",
      "|   6892|    PK| 25.45984206410578| 79.94908847679721|   6892|2657|\n",
      "|   2895|    PK|23.215602269191226| 67.87813407557383|   2895|2747|\n",
      "|   3061|    PK|28.468373832239926| 75.33444503272551|   3061|5399|\n",
      "|   3061|    PK|21.137165903823394| 64.45490124652406|   3061|5399|\n",
      "|   3061|    PK|25.549517067785036|53.723753666017956|   3061|5399|\n",
      "|   5148|    PK|14.258286500332598| 67.34708427163662|   5148|3829|\n",
      "|   5148|    PK|26.060769033421174| 57.24422958355194|   5148|3829|\n",
      "|   7664|    PK|28.941385642841272| 68.99977916680939|   7664|2975|\n",
      "|    222|    PK| 24.46227849980198|  66.3273700471616|    222|5395|\n",
      "|   6156|    PK| 38.01377915863122| 67.12745666357557|   6156|3014|\n",
      "|   6156|    PK|27.006671164200963|  67.4143832691334|   6156|3014|\n",
      "|   3741|    PK|11.024636943171574| 69.88990272443277|   3741|8776|\n",
      "|   2570|    PK|14.758617841511008| 65.32997703057595|   2570|8987|\n",
      "|   2570|    PK| 20.79598010938004|  67.8574451507883|   2570|8987|\n",
      "|   2517|    PK|26.539248842776068| 71.19110821925904|   2517|1564|\n",
      "|   2517|    PK| 18.74270765827344| 78.60648658756963|   2517|1564|\n",
      "|   6489|    PK|  23.8660344639277| 66.35307540197755|   6489|4803|\n",
      "|   8872|    PK| 21.45117874205757|63.366725960618396|   8872|8002|\n",
      "+-------+------+------------------+------------------+-------+----+\n",
      "only showing top 20 rows\n",
      "\n"
     ]
    },
    {
     "name": "stderr",
     "output_type": "stream",
     "text": [
      "                                                                                \r"
     ]
    }
   ],
   "source": [
    "joined_df = selected_df.join(patient_selected_df, selected_df.user_id == patient_selected_df.user_id)\n",
    "joined_df.show()"
   ]
  },
  {
   "cell_type": "code",
   "execution_count": 108,
   "metadata": {},
   "outputs": [
    {
     "name": "stderr",
     "output_type": "stream",
     "text": [
      "                                                                                \r"
     ]
    },
    {
     "name": "stdout",
     "output_type": "stream",
     "text": [
      "+----------+------+------------------+------------------+-------+----+\n",
      "|account_id|region|               lat|               lng|user_id|  id|\n",
      "+----------+------+------------------+------------------+-------+----+\n",
      "|      2927|    PK| 20.07127106936702| 72.07580882526509|   2927|9510|\n",
      "|      1950|    PK| 37.68087486742396| 67.78649977152259|   1950| 824|\n",
      "|      3091|    PK|30.514693025039854|  72.2841645677654|   3091|8955|\n",
      "|      8209|    PK| 32.68559601994396| 72.73932690021184|   8209| 884|\n",
      "|      1360|    PK| 19.79106789068872|   59.871373119959|   1360| 686|\n",
      "|      6856|    PK|22.633145515602198| 62.56751192226511|   6856|2376|\n",
      "|      4191|    PK| 18.90469668967994| 76.19573981799499|   4191|3248|\n",
      "|      7146|    PK|28.778919286785374| 54.50485101969218|   7146|7164|\n",
      "|      7146|    PK| 33.09941925439517| 73.13091562725617|   7146|7164|\n",
      "|      6700|    PK|26.515990765547105|    76.64585872055|   6700|2844|\n",
      "|      6319|    PK| 16.68899592329044|60.981833174537655|   6319|5466|\n",
      "|      8243|    PK| 29.76577398065513|   68.353901006701|   8243|3705|\n",
      "|        54|    PK|27.611539263526538|   70.818433069521|     54|1898|\n",
      "|      9952|    PK|27.651914219266313| 65.75397191243314|   9952|8217|\n",
      "|      9952|    PK| 27.75631430994673|  72.1543985021566|   9952|8217|\n",
      "|      9952|    PK|11.440057763009465| 63.95346084986829|   9952|8217|\n",
      "|       277|    PK| 24.70365986822233|59.363051486043105|    277|7619|\n",
      "|       277|    PK| 25.02192952143937| 71.06939568677069|    277|7619|\n",
      "|       277|    PK| 22.42651607770727| 66.20601305218884|    277|7619|\n",
      "|      2157|    PK|22.097672136783068| 74.55367204547383|   2157|5367|\n",
      "+----------+------+------------------+------------------+-------+----+\n",
      "only showing top 20 rows\n",
      "\n"
     ]
    }
   ],
   "source": [
    "joined_df_1 = selected_df.join(councillor_selected_df, selected_df.account_id == councillor_selected_df.user_id)\n",
    "joined_df_1.show()"
   ]
  },
  {
   "cell_type": "code",
   "execution_count": 32,
   "metadata": {},
   "outputs": [],
   "source": [
    "councillor_selected_df = councillor_df.select(\"user_id\", \"id\")\n",
    "patient_selected_df = patient_df.select(\"user_id\", \"id\")"
   ]
  },
  {
   "cell_type": "code",
   "execution_count": 40,
   "metadata": {},
   "outputs": [],
   "source": [
    "joined_df = councillor_selected_df.join(patient_selected_df, \"user_id\")"
   ]
  },
  {
   "cell_type": "code",
   "execution_count": 41,
   "metadata": {},
   "outputs": [
    {
     "name": "stderr",
     "output_type": "stream",
     "text": [
      "[Stage 20:>                                                       (0 + 16) / 16]\r"
     ]
    },
    {
     "name": "stdout",
     "output_type": "stream",
     "text": [
      "+-------+----+----+\n",
      "|user_id|  id|  id|\n",
      "+-------+----+----+\n",
      "|   6834|6738|3158|\n",
      "|   6834|9625|3158|\n",
      "|   4126|1890|9018|\n",
      "|   4126|5232|9018|\n",
      "|   6892|9911|2657|\n",
      "|   3061|3526|5399|\n",
      "|   5148|3797|3829|\n",
      "|   7664|1730|2975|\n",
      "|   3741|2951|8776|\n",
      "|   2570|9619|8987|\n",
      "|   2517|2821|1564|\n",
      "|   6489|3864|4803|\n",
      "|   8872|4473|8002|\n",
      "|   8872|8810|8002|\n",
      "|   9686| 360|3289|\n",
      "|   9686|7102|3289|\n",
      "|   9686|3653|3289|\n",
      "|   9686|5730|3289|\n",
      "|   1447|9235|6768|\n",
      "|   1447|1139|6768|\n",
      "+-------+----+----+\n",
      "only showing top 20 rows\n",
      "\n"
     ]
    },
    {
     "name": "stderr",
     "output_type": "stream",
     "text": [
      "                                                                                \r"
     ]
    }
   ],
   "source": [
    "joined_df.show()"
   ]
  },
  {
   "cell_type": "code",
   "execution_count": null,
   "metadata": {},
   "outputs": [],
   "source": [
    "councillor_selected_df = councillor_df.select(\"user_id\", \"id\")\n",
    "patient_selected_df = patient_df.select(\"user_id\", \"id\")\n"
   ]
  },
  {
   "cell_type": "code",
   "execution_count": 6,
   "metadata": {},
   "outputs": [],
   "source": [
    "joined_df = account_df.join(councillor_df, account_df[\"common_column\"] == councillor_df[\"common_column\"], \"inner\") \\\n",
    "                      .join(patient_df, account_df[\"common_column\"] == patient_df[\"common_column\"], \"inner\")\n"
   ]
  },
  {
   "cell_type": "code",
   "execution_count": 8,
   "metadata": {},
   "outputs": [
    {
     "data": {
      "text/plain": [
       "DataFrame[created: string, guardian_phone_number: string, id: bigint, updated: string, user_id: bigint]"
      ]
     },
     "execution_count": 8,
     "metadata": {},
     "output_type": "execute_result"
    }
   ],
   "source": [
    "joined_df = councillor_selected_df.join(patient_selected_df, \"user_id\")\n"
   ]
  },
  {
   "cell_type": "code",
   "execution_count": null,
   "metadata": {},
   "outputs": [],
   "source": [
    "selected_df = account_df.select(col(\"id\").alias(\"account_id\"), col(\"address.region\"), col(\"address.location.lat\"), col(\"address.location.lng\"))\n",
    "patient_selected_df = patient_df.select(\"user_id\", \"id\")\n",
    "\n",
    "# Join the DataFrames on the common column\n",
    "joined_df = selected_df.join(patient_selected_df, selected_df.account_id == patient_selected_df.user_id)\n",
    "\n",
    "# Show the result"
   ]
  }
 ],
 "metadata": {
  "kernelspec": {
   "display_name": "base",
   "language": "python",
   "name": "python3"
  },
  "language_info": {
   "codemirror_mode": {
    "name": "ipython",
    "version": 3
   },
   "file_extension": ".py",
   "mimetype": "text/x-python",
   "name": "python",
   "nbconvert_exporter": "python",
   "pygments_lexer": "ipython3",
   "version": "3.10.9"
  },
  "orig_nbformat": 4
 },
 "nbformat": 4,
 "nbformat_minor": 2
}
